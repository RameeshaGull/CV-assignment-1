{
  "nbformat": 4,
  "nbformat_minor": 0,
  "metadata": {
    "colab": {
      "name": "Untitled2.ipynb",
      "provenance": [],
      "collapsed_sections": []
    },
    "kernelspec": {
      "name": "python3",
      "display_name": "Python 3"
    },
    "language_info": {
      "name": "python"
    }
  },
  "cells": [
    {
      "cell_type": "code",
      "metadata": {
        "colab": {
          "base_uri": "https://localhost:8080/"
        },
        "id": "CtvDExC5WhGE",
        "outputId": "8c251cf3-05d3-499b-f4a6-92b30cc5adc0"
      },
      "source": [
        "import pandas as pd\n",
        "import os\n",
        "from skimage.transform import resize\n",
        "from skimage.io import imread\n",
        "import numpy as np\n",
        "import matplotlib.pyplot as plt\n",
        "from skimage.io import imread, imshow\n",
        "from skimage.feature import hog\n",
        "from skimage import exposure\n",
        "import matplotlib.pyplot as plt\n",
        "\n",
        "Categories=['neg','pos']\n",
        "flat_data_arr=[] #input array\n",
        "target_arr=[] #output array\n",
        "datadir='/content/drive/MyDrive/INRIA_Dataset_Samples/Train' \n",
        "#path which contains all the categories of images\n",
        "for i in Categories:\n",
        "    \n",
        "    print(f'loading... category : {i}')\n",
        "    path=os.path.join(datadir,i)\n",
        "    for img in os.listdir(path):\n",
        "        img_array=imread(os.path.join(path,img))\n",
        "        img_resized=resize(img_array,(150,150,3))\n",
        "        hog_desc = hog(img_resized, orientations=9, pixels_per_cell=(8, 8), \n",
        "                    cells_per_block=(2, 2), visualize=True, multichannel=True)\n",
        "        flat_data_arr.append(img_resized.flatten())\n",
        "        target_arr.append(Categories.index(i))\n",
        "    print(f'loaded category:{i} successfully')\n",
        "flat_data=np.array(flat_data_arr)\n",
        "target=np.array(target_arr)\n",
        "df=pd.DataFrame(flat_data) #dataframe\n",
        "df['Target']=target\n",
        "x=df.iloc[:,:-1] #input data \n",
        "y=df.iloc[:,-1] #output data\n",
        "#####\n",
        "#\n",
        "Categories=['neg','pos']\n",
        "test_flat_data_arr=[] #input array\n",
        "test_target_arr=[] #output array\n",
        "datadir='/content/drive/MyDrive/INRIA_Dataset_Samples/Test' \n",
        "#path which contains all the categories of images\n",
        "for i in Categories:\n",
        "    \n",
        "    print(f'loading... category : {i}')\n",
        "    path=os.path.join(datadir,i)\n",
        "    for img in os.listdir(path):\n",
        "        img_array=imread(os.path.join(path,img))\n",
        "        img_resized=resize(img_array,(150,150,3))\n",
        "        hog_desc = hog(img_resized, orientations=9, pixels_per_cell=(8, 8), \n",
        "                    cells_per_block=(2, 2), visualize=True, multichannel=True)\n",
        "        test_flat_data_arr.append(img_resized.flatten())\n",
        "        test_target_arr.append(Categories.index(i))\n",
        "    print(f'loaded category:{i} successfully')\n",
        "test_flat_data=np.array(test_flat_data_arr)\n",
        "test_target=np.array(test_target_arr)\n",
        "test_df=pd.DataFrame(test_flat_data) #dataframe\n",
        "test_df['Target']=test_target\n",
        "test_x=df.iloc[:,:-1] #input data \n",
        "test_y=df.iloc[:,-1] #output data"
      ],
      "execution_count": 2,
      "outputs": [
        {
          "output_type": "stream",
          "name": "stdout",
          "text": [
            "loading... category : neg\n",
            "loaded category:neg successfully\n",
            "loading... category : pos\n",
            "loaded category:pos successfully\n",
            "loading... category : neg\n",
            "loaded category:neg successfully\n",
            "loading... category : pos\n",
            "loaded category:pos successfully\n"
          ]
        }
      ]
    },
    {
      "cell_type": "code",
      "metadata": {
        "colab": {
          "base_uri": "https://localhost:8080/"
        },
        "id": "PIUGvMS_Yo9w",
        "outputId": "73bfb9fa-cbbb-43a7-836d-851ea1c1bab8"
      },
      "source": [
        "from google.colab import drive\n",
        "drive.mount('/content/drive')"
      ],
      "execution_count": 3,
      "outputs": [
        {
          "output_type": "stream",
          "name": "stdout",
          "text": [
            "Drive already mounted at /content/drive; to attempt to forcibly remount, call drive.mount(\"/content/drive\", force_remount=True).\n"
          ]
        }
      ]
    },
    {
      "cell_type": "code",
      "metadata": {
        "id": "did3MwDxiSnA",
        "colab": {
          "base_uri": "https://localhost:8080/",
          "height": 331
        },
        "outputId": "e3cb5771-3691-429f-a53e-aae905ab1869"
      },
      "source": [
        "\n",
        "from sklearn import svm\n",
        "from sklearn.metrics import plot_confusion_matrix\n",
        "from mlxtend.plotting import plot_decision_regions\n",
        "import matplotlib.pyplot as plt\n",
        "from sklearn.svm import SVC\n",
        "from sklearn.metrics import classification_report,accuracy_score\n",
        "support= svm.SVC(kernel= 'linear', C= 0.01).fit(x,y)\n",
        "predicted= support.predict(test_x)\n",
        "score=accuracy_score(test_y,predicted)\n",
        "print(\"your model accurqcy is\", score)\n",
        "np.set_printoptions(precision=2)\n",
        "matrix= plot_confusion_matrix(support, test_x, test_y,\n",
        "                              cmap=plt.cm.Blues,\n",
        "                              normalize='true')\n",
        "plt.title('confusion matrix for SVM classifier')\n",
        "plt.show(matrix)\n",
        "f1=f1_score(test_y, predicted, average= 'weighted')\n",
        "print(\"f1 score is\", f1)\n",
        "plt.show()\n",
        "\n"
      ],
      "execution_count": 17,
      "outputs": [
        {
          "output_type": "stream",
          "name": "stdout",
          "text": [
            "your model accurqcy is 1.0\n"
          ]
        },
        {
          "output_type": "display_data",
          "data": {
            "image/png": "[encoded data removed]",
            "text/plain": [
              "<Figure size 432x288 with 2 Axes>"
            ]
          },
          "metadata": {
            "needs_background": "light"
          }
        },
        {
          "output_type": "stream",
          "name": "stdout",
          "text": [
            "f1 score is 1.0\n"
          ]
        }
      ]
    },
    {
      "cell_type": "code",
      "metadata": {
        "colab": {
          "base_uri": "https://localhost:8080/",
          "height": 331
        },
        "id": "nZPi-Gl65rR9",
        "outputId": "1da483a3-91f9-49ee-87bf-32366bafd9f8"
      },
      "source": [
        "from sklearn.ensemble import RandomForestClassifier\n",
        "from sklearn.metrics import f1_score\n",
        "clf=RandomForestClassifier(n_estimators=100)\n",
        "#Train the model using the training sets y_pred=clf.predict(X_test)\n",
        "clf.fit(x,y)\n",
        "# prediction on test set\n",
        "y_pred=clf.predict(test_x)\n",
        "score=accuracy_score(test_y,predicted)\n",
        "print(\"Your Model Accuracy is\", score)\n",
        "np.set_printoptions(precision=2)\n",
        "\n",
        "# Plot non-normalized confusion matrix\n",
        "matrix = plot_confusion_matrix(clf, test_x, test_y,\n",
        "                                 cmap=plt.cm.Blues,\n",
        "                                 normalize='true')\n",
        "f1=f1_score(test_y, predicted, average='weighted')\n",
        "print(\"F1-score is\", f1)\n",
        "plt.title('Confusion matrix for our Random Forest Classifier')\n",
        "plt.show(matrix)\n",
        "plt.show()"
      ],
      "execution_count": 14,
      "outputs": [
        {
          "output_type": "stream",
          "name": "stdout",
          "text": [
            "Your Model Accuracy is 1.0\n",
            "F1-score is 1.0\n"
          ]
        },
        {
          "output_type": "display_data",
          "data": {
            "image/png": "[encoded data removed]",
            "text/plain": [
              "<Figure size 432x288 with 2 Axes>"
            ]
          },
          "metadata": {
            "needs_background": "light"
          }
        }
      ]
    },
    {
      "cell_type": "code",
      "metadata": {
        "id": "dax0PsurXMS0"
      },
      "source": [
        ""
      ],
      "execution_count": null,
      "outputs": []
    }
  ]
}